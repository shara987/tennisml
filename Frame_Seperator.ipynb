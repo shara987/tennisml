{
  "cells": [
    {
      "cell_type": "code",
      "execution_count": 1,
      "metadata": {
        "colab": {
          "base_uri": "https://localhost:8080/"
        },
        "id": "VFjerviqYtiP",
        "outputId": "a42166cb-0744-4a76-9d95-76b71c4de3ab"
      },
      "outputs": [
        {
          "output_type": "stream",
          "name": "stdout",
          "text": [
            "Requirement already satisfied: opencv-python in /usr/local/lib/python3.12/dist-packages (4.12.0.88)\n",
            "Collecting pytube\n",
            "  Downloading pytube-15.0.0-py3-none-any.whl.metadata (5.0 kB)\n",
            "Requirement already satisfied: numpy<2.3.0,>=2 in /usr/local/lib/python3.12/dist-packages (from opencv-python) (2.0.2)\n",
            "Downloading pytube-15.0.0-py3-none-any.whl (57 kB)\n",
            "\u001b[2K   \u001b[90m━━━━━━━━━━━━━━━━━━━━━━━━━━━━━━━━━━━━━━━━\u001b[0m \u001b[32m57.6/57.6 kB\u001b[0m \u001b[31m2.2 MB/s\u001b[0m eta \u001b[36m0:00:00\u001b[0m\n",
            "\u001b[?25hInstalling collected packages: pytube\n",
            "Successfully installed pytube-15.0.0\n"
          ]
        }
      ],
      "source": [
        "!pip install opencv-python pytube"
      ]
    },
    {
      "cell_type": "code",
      "execution_count": 2,
      "metadata": {
        "id": "flE6IdPtckco"
      },
      "outputs": [],
      "source": [
        "from pytube import YouTube\n",
        "import os\n",
        "import cv2"
      ]
    },
    {
      "cell_type": "code",
      "execution_count": 3,
      "metadata": {
        "colab": {
          "base_uri": "https://localhost:8080/",
          "height": 451
        },
        "id": "by-uA0TRekqf",
        "outputId": "95b230d0-a648-40ab-a129-b2e00a6779bd"
      },
      "outputs": [
        {
          "output_type": "stream",
          "name": "stdout",
          "text": [
            "\u001b[2K     \u001b[90m━━━━━━━━━━━━━━━━━━━━━━━━━━━━━━━━━━━━━━━\u001b[0m \u001b[32m175.9/175.9 kB\u001b[0m \u001b[31m3.8 MB/s\u001b[0m eta \u001b[36m0:00:00\u001b[0m\n",
            "\u001b[2K   \u001b[90m━━━━━━━━━━━━━━━━━━━━━━━━━━━━━━━━━━━━━━━━\u001b[0m \u001b[32m3.2/3.2 MB\u001b[0m \u001b[31m44.4 MB/s\u001b[0m eta \u001b[36m0:00:00\u001b[0m\n",
            "\u001b[?25hReading package lists...\n",
            "Building dependency tree...\n",
            "Reading state information...\n",
            "ffmpeg is already the newest version (7:4.4.2-0ubuntu0.22.04.1).\n",
            "0 upgraded, 0 newly installed, 0 to remove and 38 not upgraded.\n",
            "[youtube] Extracting URL: https://www.youtube.com/watch?v=1YuShuvbZnM\n",
            "[youtube] 1YuShuvbZnM: Downloading webpage\n",
            "[youtube] 1YuShuvbZnM: Downloading tv client config\n",
            "[youtube] 1YuShuvbZnM: Downloading tv player API JSON\n",
            "[youtube] 1YuShuvbZnM: Downloading web safari player API JSON\n",
            "[youtube] 1YuShuvbZnM: Downloading player 0004de42-main\n",
            "[youtube] 1YuShuvbZnM: Downloading m3u8 information\n",
            "[info] 1YuShuvbZnM: Downloading 1 format(s): 137+140\n",
            "[download] Destination: Tennis.f137.mp4\n",
            "\u001b[K[download] 100% of  191.27MiB in \u001b[1;37m00:00:07\u001b[0m at \u001b[0;32m27.26MiB/s\u001b[0m\n",
            "[download] Destination: Tennis.f140.m4a\n",
            "\u001b[K[download] 100% of    7.44MiB in \u001b[1;37m00:00:00\u001b[0m at \u001b[0;32m12.98MiB/s\u001b[0m\n",
            "[Merger] Merging formats into \"Tennis.mp4\"\n",
            "Deleting original file Tennis.f140.m4a (pass -k to keep)\n",
            "Deleting original file Tennis.f137.mp4 (pass -k to keep)\n",
            "Video downloaded successfully.\n",
            "Extracted 14451 frames to 'frames'\n"
          ]
        },
        {
          "output_type": "display_data",
          "data": {
            "text/plain": [
              "<IPython.core.display.Javascript object>"
            ],
            "application/javascript": [
              "\n",
              "    async function download(id, filename, size) {\n",
              "      if (!google.colab.kernel.accessAllowed) {\n",
              "        return;\n",
              "      }\n",
              "      const div = document.createElement('div');\n",
              "      const label = document.createElement('label');\n",
              "      label.textContent = `Downloading \"${filename}\": `;\n",
              "      div.appendChild(label);\n",
              "      const progress = document.createElement('progress');\n",
              "      progress.max = size;\n",
              "      div.appendChild(progress);\n",
              "      document.body.appendChild(div);\n",
              "\n",
              "      const buffers = [];\n",
              "      let downloaded = 0;\n",
              "\n",
              "      const channel = await google.colab.kernel.comms.open(id);\n",
              "      // Send a message to notify the kernel that we're ready.\n",
              "      channel.send({})\n",
              "\n",
              "      for await (const message of channel.messages) {\n",
              "        // Send a message to notify the kernel that we're ready.\n",
              "        channel.send({})\n",
              "        if (message.buffers) {\n",
              "          for (const buffer of message.buffers) {\n",
              "            buffers.push(buffer);\n",
              "            downloaded += buffer.byteLength;\n",
              "            progress.value = downloaded;\n",
              "          }\n",
              "        }\n",
              "      }\n",
              "      const blob = new Blob(buffers, {type: 'application/binary'});\n",
              "      const a = document.createElement('a');\n",
              "      a.href = window.URL.createObjectURL(blob);\n",
              "      a.download = filename;\n",
              "      div.appendChild(a);\n",
              "      a.click();\n",
              "      div.remove();\n",
              "    }\n",
              "  "
            ]
          },
          "metadata": {}
        },
        {
          "output_type": "display_data",
          "data": {
            "text/plain": [
              "<IPython.core.display.Javascript object>"
            ],
            "application/javascript": [
              "download(\"download_c99a01f7-8de6-4a37-9f64-e74fa595da2b\", \"frames.zip\", 9082867384)"
            ]
          },
          "metadata": {}
        }
      ],
      "source": [
        "# STEP 0: Install required tools\n",
        "!pip install yt-dlp opencv-python --quiet\n",
        "!apt install ffmpeg --quiet\n",
        "\n",
        "# STEP 1: Download video using yt-dlp\n",
        "url = \"https://www.youtube.com/watch?v=1YuShuvbZnM\" #make this shorter\n",
        "!yt-dlp -f bestvideo[ext=mp4]+bestaudio[ext=m4a]/best[ext=mp4] \\\n",
        "  --merge-output-format mp4 -o \"Tennis.mp4\" {url}\n",
        "\n",
        "# Check if the file was downloaded\n",
        "\n",
        "video_path = \"Tennis.mp4\"\n",
        "if not os.path.exists(video_path):\n",
        "    raise FileNotFoundError(\"Video download failed. 'Tennis.mp4' not found.\")\n",
        "\n",
        "print(\"Video downloaded successfully.\")\n",
        "\n",
        "# STEP 2: Extract frames using OpenCV\n",
        "output_folder = \"frames\"\n",
        "os.makedirs(output_folder, exist_ok=True)\n",
        "\n",
        "capture = cv2.VideoCapture(video_path)\n",
        "\n",
        "if not capture.isOpened():\n",
        "    raise RuntimeError(\"Failed to open video file with OpenCV.\")\n",
        "\n",
        "frame_count = 0\n",
        "extracted_count = 0\n",
        "\n",
        "while True:\n",
        "    ret, frame = capture.read()\n",
        "    if not ret:\n",
        "        break\n",
        "\n",
        "    frame_filename = os.path.join(output_folder, f\"frame_{frame_count:05d}.jpg\")\n",
        "    cv2.imwrite(frame_filename, frame)\n",
        "    frame_count += 1\n",
        "    extracted_count += 1\n",
        "\n",
        "capture.release()\n",
        "\n",
        "print(f\"Extracted {extracted_count} frames to '{output_folder}'\")\n",
        "\n",
        "# STEP 3: Zip and download the frames\n",
        "import shutil\n",
        "from google.colab import files\n",
        "\n",
        "shutil.make_archive(\"frames\", \"zip\", output_folder)\n",
        "files.download(\"frames.zip\")\n"
      ]
    }
  ],
  "metadata": {
    "colab": {
      "provenance": []
    },
    "kernelspec": {
      "display_name": "Python 3",
      "name": "python3"
    },
    "language_info": {
      "name": "python"
    }
  },
  "nbformat": 4,
  "nbformat_minor": 0
}